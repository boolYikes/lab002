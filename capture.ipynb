{
 "cells": [
  {
   "cell_type": "code",
   "execution_count": null,
   "metadata": {},
   "outputs": [],
   "source": [
    "!pip install PyAutoGUI"
   ]
  },
  {
   "cell_type": "code",
   "execution_count": 13,
   "metadata": {},
   "outputs": [
    {
     "name": "stdout",
     "output_type": "stream",
     "text": [
      "Collecting screeninfo\n",
      "  Downloading screeninfo-0.8.1-py3-none-any.whl (12 kB)\n",
      "Installing collected packages: screeninfo\n",
      "Successfully installed screeninfo-0.8.1\n"
     ]
    }
   ],
   "source": [
    "!pip install screeninfo"
   ]
  },
  {
   "cell_type": "code",
   "execution_count": 498,
   "metadata": {},
   "outputs": [],
   "source": [
    "# not used\n",
    "!pip install -q EbookLib "
   ]
  },
  {
   "cell_type": "code",
   "execution_count": null,
   "metadata": {},
   "outputs": [],
   "source": [
    "pip install PyPDF2"
   ]
  },
  {
   "cell_type": "code",
   "execution_count": 518,
   "metadata": {},
   "outputs": [
    {
     "name": "stdout",
     "output_type": "stream",
     "text": [
      "Collecting natsort\n",
      "  Downloading natsort-8.4.0-py3-none-any.whl (38 kB)\n",
      "Installing collected packages: natsort\n",
      "Successfully installed natsort-8.4.0\n",
      "Note: you may need to restart the kernel to use updated packages.\n"
     ]
    }
   ],
   "source": [
    "pip install natsort"
   ]
  },
  {
   "cell_type": "code",
   "execution_count": null,
   "metadata": {},
   "outputs": [],
   "source": [
    "pip install reportlab"
   ]
  },
  {
   "cell_type": "code",
   "execution_count": 519,
   "metadata": {},
   "outputs": [],
   "source": [
    "from PIL import Image, ImageDraw\n",
    "import pyautogui\n",
    "from screeninfo import get_monitors\n",
    "from reportlab.lib.pagesizes import A4, B3, A3\n",
    "from reportlab.pdfgen import canvas\n",
    "import matplotlib.pyplot as plt\n",
    "import os\n",
    "from PyPDF2 import PdfWriter, PdfReader\n",
    "from natsort import natsorted"
   ]
  },
  {
   "cell_type": "code",
   "execution_count": 22,
   "metadata": {},
   "outputs": [
    {
     "data": {
      "text/plain": [
       "Monitor(x=1920, y=0, width=1920, height=1080, width_mm=530, height_mm=300, name='\\\\\\\\.\\\\DISPLAY1', is_primary=False)"
      ]
     },
     "execution_count": 22,
     "metadata": {},
     "output_type": "execute_result"
    }
   ],
   "source": [
    "get_monitors()[0]"
   ]
  },
  {
   "cell_type": "code",
   "execution_count": 30,
   "metadata": {},
   "outputs": [],
   "source": [
    "def gods_work(monitor_idx, x1, y1, x2, y2, out_file, size):\n",
    "    \n",
    "    monitors=get_monitors()\n",
    "    \n",
    "    if monitor_idx < 0 or monitor_idx >= len(monitors):\n",
    "        raise ValueError(\"Wrong num of monitor! babo\")\n",
    "    \n",
    "    monitor = monitors[monitor_idx]\n",
    "\n",
    "    screenshot = pyautogui.screenshot(region=(monitor.x, monitor.y, monitor.width, monitor.height))\n",
    "\n",
    "    # draw = ImageDraw.Draw(screenshot)\n",
    "\n",
    "    # draw.rectangle([x1, y1, x2, y2], outline=\"red\", width=2)\n",
    "\n",
    "    captured_area = screenshot.crop((x1, y1, x2, y2))\n",
    "    plt.imshow(captured_area)\n",
    "    plt.title(f\"x1:{x1}, y1:{y1}, x2:{x2}, y2:{y2}\")\n",
    "    plt.show()\n",
    "    temp_pic_name = \"./intermed.png\"\n",
    "    captured_area.save(temp_pic_name)\n",
    "\n",
    "    in_mm = size\n",
    "    page_size = ((in_mm[0]/25.4)*72, (in_mm[1]/25.4)*72) # 1 inch = 25.4mm, 1 inch = 72point\n",
    "    pdf_canvas = canvas.Canvas(out_file, pagesize=page_size)\n",
    "    pdf_canvas.drawImage(temp_pic_name, 0, 0, width=page_size[0], height=page_size[1])\n",
    "    pdf_canvas.save()"
   ]
  },
  {
   "cell_type": "code",
   "execution_count": null,
   "metadata": {},
   "outputs": [],
   "source": [
    "# DO THIS FIRST TO FIND COORD\n",
    "mon = get_monitors()[1]\n",
    "temp = pyautogui.screenshot(region=(mon.x, mon.y, mon.width, mon.height))\n",
    "plt.imshow(temp)\n",
    "plt.show()"
   ]
  },
  {
   "cell_type": "code",
   "execution_count": 26,
   "metadata": {},
   "outputs": [
    {
     "name": "stdout",
     "output_type": "stream",
     "text": [
      "A4: (595.2755905511812, 841.8897637795277)\n",
      "A3:(841.8897637795277, 1190.5511811023623), \n",
      "B3:(1000.6299212598426, 1417.3228346456694)\n",
      "ratio\n",
      " A4:1.4142857142857144\n",
      "A3:1.414141414141414\n",
      "B3:1.41643059490085\n"
     ]
    }
   ],
   "source": [
    "print(f\"A4: {A4}\\nA3:{A3}, \\nB3:{B3}\")\n",
    "print(f\"ratio\\n A4:{A4[1]/A4[0]}\\nA3:{A3[1]/A3[0]}\\nB3:{B3[1]/B3[0]}\")"
   ]
  },
  {
   "cell_type": "code",
   "execution_count": 265,
   "metadata": {},
   "outputs": [],
   "source": [
    "page = 1 # execute this for do-over"
   ]
  },
  {
   "cell_type": "code",
   "execution_count": null,
   "metadata": {},
   "outputs": [],
   "source": [
    "idx = 1 # monitor idx\n",
    "mult = 2 \n",
    "size = (235.22, 298.22) # real page size in mm\n",
    "x1 = 530\n",
    "y1 = 0\n",
    "x2 = 1385\n",
    "y2 = 1080\n",
    "name = f\"{page}.pdf\"\n",
    "bookname = \"turtle2\"\n",
    "folder = f\"x:\\\\shot_and_save\\\\{bookname}\\\\\"\n",
    "if not os.path.isdir(folder):\n",
    "    os.makedirs(folder)\n",
    "    print(f\"Made folder for book {bookname}.\")\n",
    "out = os.path.join(folder, name)\n",
    "\n",
    "gods_work(idx, x1, y1, x2, y2, out, size)\n",
    "page += 1"
   ]
  },
  {
   "cell_type": "code",
   "execution_count": 524,
   "metadata": {},
   "outputs": [],
   "source": [
    "# for booking up\n",
    "def merge(book_folder, out):\n",
    "    pdf_writer = PdfWriter()\n",
    "    pages = natsorted(os.listdir(book_folder))\n",
    "    paths = []\n",
    "    for page in pages:\n",
    "        paths.append(os.path.join(book_folder, page))\n",
    "    n = 0\n",
    "    leng = len(paths)\n",
    "    for p in paths:\n",
    "        reader = PdfReader(p)\n",
    "        for page_num in range(len(reader.pages)):\n",
    "            page = reader.pages[page_num]\n",
    "            pdf_writer.add_page(page)\n",
    "            n += 1\n",
    "            print(f\"doin things : {int((n/leng))*100}% ...\", end=\"\\r\")\n",
    "    \n",
    "    with open(out, 'wb') as o_file:\n",
    "        pdf_writer.write(o_file)"
   ]
  },
  {
   "cell_type": "code",
   "execution_count": 526,
   "metadata": {},
   "outputs": [
    {
     "name": "stdout",
     "output_type": "stream",
     "text": [
      "doin things : 100% ...\r"
     ]
    }
   ],
   "source": [
    "target_book = \"x:\\\\shot_and_save\\\\turtle2\\\\\"\n",
    "name = \"Very good book\"\n",
    "name = os.path.join(f\"x:\\\\shot_and_save\\\\{name}.pdf\")\n",
    "\n",
    "merge(target_book, name)"
   ]
  },
  {
   "cell_type": "markdown",
   "metadata": {},
   "source": [
    "---\n",
    "BELOW ARE TEST CELLS\n",
    "---"
   ]
  },
  {
   "cell_type": "code",
   "execution_count": null,
   "metadata": {},
   "outputs": [],
   "source": [
    "# whole screen\n",
    "im = pyautogui.screenshot(allScreens=True, )"
   ]
  }
 ],
 "metadata": {
  "kernelspec": {
   "display_name": "base",
   "language": "python",
   "name": "python3"
  },
  "language_info": {
   "codemirror_mode": {
    "name": "ipython",
    "version": 3
   },
   "file_extension": ".py",
   "mimetype": "text/x-python",
   "name": "python",
   "nbconvert_exporter": "python",
   "pygments_lexer": "ipython3",
   "version": "3.11.3"
  }
 },
 "nbformat": 4,
 "nbformat_minor": 2
}
